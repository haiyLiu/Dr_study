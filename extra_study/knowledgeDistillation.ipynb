{
 "cells": [
  {
   "cell_type": "markdown",
   "metadata": {},
   "source": [
    "知识蒸馏代码实现（手写数字集）"
   ]
  },
  {
   "cell_type": "code",
   "execution_count": 1,
   "metadata": {},
   "outputs": [
    {
     "name": "stderr",
     "output_type": "stream",
     "text": [
      "/home/lhy/.local/share/virtualenvs/DL_review_code-arXkr9ho/lib/python3.7/site-packages/tqdm/auto.py:21: TqdmWarning: IProgress not found. Please update jupyter and ipywidgets. See https://ipywidgets.readthedocs.io/en/stable/user_install.html\n",
      "  from .autonotebook import tqdm as notebook_tqdm\n"
     ]
    }
   ],
   "source": [
    "import torch\n",
    "import torch.nn as nn\n",
    "import torch.nn.functional as F\n",
    "import torchvision\n",
    "from torchvision import transforms\n",
    "from torch.utils.data import DataLoader\n",
    "# from torchinfo import summary"
   ]
  },
  {
   "cell_type": "code",
   "execution_count": 2,
   "metadata": {},
   "outputs": [],
   "source": [
    "torch.manual_seed(0)\n",
    "device = torch.device('cuda' if torch.cuda.is_available() else 'cpu')\n",
    "torch.backends.cudnn.benchmark = True\n",
    "\n",
    "train_dataset = torchvision.datasets.FashionMNIST(root='../DeepLearning/DL_review_code/Datasets/', train=True, transform=transforms.ToTensor(), download=False)\n",
    "test_dataset = torchvision.datasets.FashionMNIST(root='../DeepLearning/DL_review_code/Datasets/', train=False, transform=transforms.ToTensor(), download=False)\n",
    "train_iter = DataLoader(train_dataset, batch_size=32, shuffle=True)\n",
    "test_iter = DataLoader(test_dataset, batch_size=32, shuffle=True)"
   ]
  },
  {
   "cell_type": "code",
   "execution_count": 3,
   "metadata": {},
   "outputs": [],
   "source": [
    "#搭建教师网络\n",
    "class Teacher_model(nn.Module):\n",
    "    def __init__(self, in_channels=1, num_classes=10) -> None:\n",
    "        super(Teacher_model, self).__init__()\n",
    "        self.fc1 = nn.Linear(784, 1200)\n",
    "        self.fc2 = nn.Linear(1200, 1200)\n",
    "        self.fc3 = nn.Linear(1200, 10)\n",
    "        self.relu = nn.ReLU()\n",
    "        self.dropout = nn.Dropout(0.5)\n",
    "    \n",
    "    def forward(self, X):\n",
    "        X = X.view(-1, 784)\n",
    "        X = self.fc1(X)\n",
    "        X = self.dropout(X)\n",
    "        X = self.relu(X)\n",
    "        X = self.fc2(X)\n",
    "        X = self.dropout(X)\n",
    "        X = self.relu(X)\n",
    "        X = self.fc3(X)\n",
    "        return X\n",
    "\n",
    "teacher_model = Teacher_model()\n",
    "teacher_model = teacher_model.to(device)\n",
    "\n",
    "loss_function = nn.CrossEntropyLoss()\n",
    "optim = torch.optim.Adam(teacher_model.parameters(), lr=0.0001)"
   ]
  },
  {
   "cell_type": "code",
   "execution_count": 5,
   "metadata": {},
   "outputs": [
    {
     "name": "stdout",
     "output_type": "stream",
     "text": [
      "epoches:0, accurate=0.846\n",
      "epoches:1, accurate=0.862\n",
      "epoches:2, accurate=0.870\n",
      "epoches:3, accurate=0.875\n",
      "epoches:4, accurate=0.872\n",
      "epoches:5, accurate=0.872\n"
     ]
    }
   ],
   "source": [
    "# 教师模型训练\n",
    "num_epochs = 6\n",
    "for epoch in range(num_epochs):\n",
    "    teacher_model.train()\n",
    "    for X, y in train_iter:\n",
    "        X, y = X.to(device), y.to(device)\n",
    "        y_hat = teacher_model(X)\n",
    "        l = loss_function(y_hat, y)\n",
    "        optim.zero_grad()\n",
    "        l.backward()\n",
    "        optim.step()\n",
    "    \n",
    "    teacher_model.eval()\n",
    "    num_correct, num_samples = 0.0, 0\n",
    "    with torch.no_grad():\n",
    "        for X, y in test_iter:\n",
    "            X, y = X.to(device), y.to(device)\n",
    "            y_hat = teacher_model(X)\n",
    "            pre = y_hat.argmax(dim=1)\n",
    "            num_correct += (pre == y).float().sum().item()\n",
    "            num_samples += y.shape[0]\n",
    "        acc = num_correct/num_samples\n",
    "    teacher_model.train()\n",
    "    print('epoch:%d, accurate=%.3f' % (epoch, acc))"
   ]
  },
  {
   "cell_type": "code",
   "execution_count": 7,
   "metadata": {},
   "outputs": [],
   "source": [
    "# 搭建学生网络\n",
    "class Student_model(nn.Module):\n",
    "    def __init__(self, in_channels=1, num_class=10) -> None:\n",
    "        super(Student_model, self).__init__()\n",
    "        self.fc1 = nn.Linear(784, 20)\n",
    "        self.fc2 = nn.Linear(20, 20)\n",
    "        self.fc3 = nn.Linear(20, 10)\n",
    "        self.relu = nn.ReLU()\n",
    "    \n",
    "    def forward(self, x):\n",
    "        x = x.view(-1, 784)\n",
    "        x = self.relu(self.fc1(x))\n",
    "        x = self.relu(self.fc2(x))\n",
    "        x = self.fc3(x)\n",
    "        return x\n",
    "\n",
    "student_model = Student_model().to(device)\n",
    "loss_function = nn.CrossEntropyLoss()\n",
    "optim = torch.optim.Adam(student_model.parameters(), lr=0.0001)"
   ]
  },
  {
   "cell_type": "code",
   "execution_count": 8,
   "metadata": {},
   "outputs": [
    {
     "name": "stdout",
     "output_type": "stream",
     "text": [
      "epoch:0, accurate=0.689\n",
      "epoch:1, accurate=0.762\n",
      "epoch:2, accurate=0.794\n",
      "epoch:3, accurate=0.814\n",
      "epoch:4, accurate=0.821\n",
      "epoch:5, accurate=0.828\n"
     ]
    }
   ],
   "source": [
    "num_epochs = 6\n",
    "for epoch in range(num_epochs):\n",
    "    student_model.train()\n",
    "    for X, y in train_iter:\n",
    "        X, y = X.to(device), y.to(device)\n",
    "        y_hat = student_model(X)\n",
    "        l = loss_function(y_hat, y)\n",
    "        optim.zero_grad()\n",
    "        l.backward()\n",
    "        optim.step()\n",
    "    \n",
    "    student_model.eval()\n",
    "    num_correct, num_samples = 0.0, 0\n",
    "    with torch.no_grad():\n",
    "        for X, y in test_iter:\n",
    "            X, y = X.to(device), y.to(device)\n",
    "            y_hat = student_model(X)\n",
    "            num_correct += (y_hat.argmax(dim=1) == y).float().sum().item()\n",
    "            num_samples += y.shape[0]\n",
    "        acc = num_correct / num_samples\n",
    "    student_model.train()\n",
    "    print('epoch:%d, accurate=%.3f' % (epoch, acc))"
   ]
  },
  {
   "cell_type": "code",
   "execution_count": 9,
   "metadata": {},
   "outputs": [],
   "source": [
    "# 开始知识蒸馏算法\n",
    "teacher_model.eval()\n",
    "T = 7 #蒸馏温度\n",
    "hard_loss = nn.CrossEntropyLoss()\n",
    "alpha = 0.3\n",
    "soft_loss = nn.KLDivLoss(reduction='batchmean')\n",
    "optim = torch.optim.Adam(student_model.parameters(), lr=0.0001)"
   ]
  },
  {
   "cell_type": "code",
   "execution_count": 10,
   "metadata": {},
   "outputs": [
    {
     "name": "stdout",
     "output_type": "stream",
     "text": [
      "epoch:0, accurate=0.827\n",
      "epoch:1, accurate=0.830\n",
      "epoch:2, accurate=0.830\n",
      "epoch:3, accurate=0.833\n",
      "epoch:4, accurate=0.834\n"
     ]
    }
   ],
   "source": [
    "epoches = 5\n",
    "for epoch in range(epoches):\n",
    "    student_model.train()\n",
    "    for X, y in train_iter:\n",
    "        X, y = X.to(device), y.to(device)\n",
    "        with torch.no_grad():\n",
    "            teacher_y = teacher_model(X)\n",
    "        student_y = student_model(X)\n",
    "        hard_l = hard_loss(student_y, y)\n",
    "        soft_l = soft_loss(F.softmax(student_y/T, dim=1), F.softmax(teacher_y/T, dim=1))\n",
    "        all_l = alpha*hard_l + (1-alpha)*soft_l\n",
    "\n",
    "        optim.zero_grad()\n",
    "        all_l.backward()\n",
    "        optim.step()\n",
    "    \n",
    "    student_model.eval()\n",
    "    num_correct, num_samples = 0.0, 0\n",
    "    with torch.no_grad():\n",
    "        for X, y in test_iter:\n",
    "            X, y = X.to(device), y.to(device)\n",
    "            y_hat = student_model(X)\n",
    "            num_correct += (y_hat.argmax(dim=1) == y).float().sum().item()\n",
    "            num_samples += y.shape[0]\n",
    "        acc = num_correct / num_samples\n",
    "    student_model.train()\n",
    "    print('epoch:%d, accurate=%.3f' % (epoch, acc))"
   ]
  }
 ],
 "metadata": {
  "kernelspec": {
   "display_name": "DL_review_code-arXkr9ho",
   "language": "python",
   "name": "python3"
  },
  "language_info": {
   "codemirror_mode": {
    "name": "ipython",
    "version": 3
   },
   "file_extension": ".py",
   "mimetype": "text/x-python",
   "name": "python",
   "nbconvert_exporter": "python",
   "pygments_lexer": "ipython3",
   "version": "3.7.15"
  }
 },
 "nbformat": 4,
 "nbformat_minor": 2
}
